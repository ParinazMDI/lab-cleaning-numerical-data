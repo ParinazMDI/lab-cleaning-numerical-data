{
 "cells": [
  {
   "cell_type": "code",
   "execution_count": 1,
   "metadata": {
    "id": "Bq0KH1i_NyRd"
   },
   "outputs": [],
   "source": [
    "import scipy.stats as st\n",
    "import numpy as np"
   ]
  },
  {
   "cell_type": "code",
   "execution_count": 2,
   "metadata": {
    "id": "EvFbv4f4OEBa"
   },
   "outputs": [],
   "source": [
    "cars_table=[[256,74],\n",
    "            [41,42],\n",
    "            [66,34]]"
   ]
  },
  {
   "cell_type": "code",
   "execution_count": 3,
   "metadata": {
    "id": "ybsSIkbCOItk"
   },
   "outputs": [
    {
     "data": {
      "text/plain": [
       "Chi2ContingencyResult(statistic=26.8113499370887, pvalue=1.5065700686908928e-06, dof=2, expected_freq=array([[233.50877193,  96.49122807],\n",
       "       [ 58.73099415,  24.26900585],\n",
       "       [ 70.76023392,  29.23976608]]))"
      ]
     },
     "execution_count": 3,
     "metadata": {},
     "output_type": "execute_result"
    }
   ],
   "source": [
    "st.chi2_contingency(np.array(cars_table))"
   ]
  },
  {
   "cell_type": "code",
   "execution_count": null,
   "metadata": {
    "id": "TrWdFyHrOphP"
   },
   "outputs": [],
   "source": [
    "#seems like our car manufacturers are actually quite differentiated.\n",
    "#good for them!"
   ]
  },
  {
   "cell_type": "code",
   "execution_count": 4,
   "metadata": {
    "id": "U1DAsxPrObGx"
   },
   "outputs": [],
   "source": [
    "import pandas as pd"
   ]
  },
  {
   "cell_type": "code",
   "execution_count": 5,
   "metadata": {
    "id": "QXZkeZJBOKfI"
   },
   "outputs": [
    {
     "data": {
      "text/html": [
       "<div>\n",
       "<style scoped>\n",
       "    .dataframe tbody tr th:only-of-type {\n",
       "        vertical-align: middle;\n",
       "    }\n",
       "\n",
       "    .dataframe tbody tr th {\n",
       "        vertical-align: top;\n",
       "    }\n",
       "\n",
       "    .dataframe thead th {\n",
       "        text-align: right;\n",
       "    }\n",
       "</style>\n",
       "<table border=\"1\" class=\"dataframe\">\n",
       "  <thead>\n",
       "    <tr style=\"text-align: right;\">\n",
       "      <th></th>\n",
       "      <th>STATE</th>\n",
       "      <th>PVASTATE</th>\n",
       "      <th>DOB</th>\n",
       "      <th>MDMAUD</th>\n",
       "      <th>RECP3</th>\n",
       "      <th>GENDER</th>\n",
       "      <th>DOMAIN</th>\n",
       "      <th>INCOME</th>\n",
       "      <th>HOMEOWNR</th>\n",
       "      <th>HV1</th>\n",
       "      <th>...</th>\n",
       "      <th>VETERANS</th>\n",
       "      <th>NUMPROM</th>\n",
       "      <th>CARDPROM</th>\n",
       "      <th>CARDPM12</th>\n",
       "      <th>NUMPRM12</th>\n",
       "      <th>MAXADATE</th>\n",
       "      <th>RFA_2</th>\n",
       "      <th>NGIFTALL</th>\n",
       "      <th>TIMELAG</th>\n",
       "      <th>AVGGIFT</th>\n",
       "    </tr>\n",
       "  </thead>\n",
       "  <tbody>\n",
       "    <tr>\n",
       "      <th>0</th>\n",
       "      <td>IL</td>\n",
       "      <td>NaN</td>\n",
       "      <td>3712</td>\n",
       "      <td>XXXX</td>\n",
       "      <td>NaN</td>\n",
       "      <td>F</td>\n",
       "      <td>T2</td>\n",
       "      <td>NaN</td>\n",
       "      <td>NaN</td>\n",
       "      <td>479</td>\n",
       "      <td>...</td>\n",
       "      <td>NaN</td>\n",
       "      <td>74</td>\n",
       "      <td>27</td>\n",
       "      <td>6</td>\n",
       "      <td>14</td>\n",
       "      <td>9702</td>\n",
       "      <td>L4E</td>\n",
       "      <td>31</td>\n",
       "      <td>4.0</td>\n",
       "      <td>7.741935</td>\n",
       "    </tr>\n",
       "    <tr>\n",
       "      <th>1</th>\n",
       "      <td>CA</td>\n",
       "      <td>NaN</td>\n",
       "      <td>5202</td>\n",
       "      <td>XXXX</td>\n",
       "      <td>NaN</td>\n",
       "      <td>M</td>\n",
       "      <td>S1</td>\n",
       "      <td>6.0</td>\n",
       "      <td>H</td>\n",
       "      <td>5468</td>\n",
       "      <td>...</td>\n",
       "      <td>NaN</td>\n",
       "      <td>32</td>\n",
       "      <td>12</td>\n",
       "      <td>6</td>\n",
       "      <td>13</td>\n",
       "      <td>9702</td>\n",
       "      <td>L2G</td>\n",
       "      <td>3</td>\n",
       "      <td>18.0</td>\n",
       "      <td>15.666667</td>\n",
       "    </tr>\n",
       "    <tr>\n",
       "      <th>2</th>\n",
       "      <td>NC</td>\n",
       "      <td>NaN</td>\n",
       "      <td>0</td>\n",
       "      <td>XXXX</td>\n",
       "      <td>NaN</td>\n",
       "      <td>M</td>\n",
       "      <td>R2</td>\n",
       "      <td>3.0</td>\n",
       "      <td>U</td>\n",
       "      <td>497</td>\n",
       "      <td>...</td>\n",
       "      <td>NaN</td>\n",
       "      <td>63</td>\n",
       "      <td>26</td>\n",
       "      <td>6</td>\n",
       "      <td>14</td>\n",
       "      <td>9702</td>\n",
       "      <td>L4E</td>\n",
       "      <td>27</td>\n",
       "      <td>12.0</td>\n",
       "      <td>7.481481</td>\n",
       "    </tr>\n",
       "    <tr>\n",
       "      <th>3</th>\n",
       "      <td>CA</td>\n",
       "      <td>NaN</td>\n",
       "      <td>2801</td>\n",
       "      <td>XXXX</td>\n",
       "      <td>NaN</td>\n",
       "      <td>F</td>\n",
       "      <td>R2</td>\n",
       "      <td>1.0</td>\n",
       "      <td>U</td>\n",
       "      <td>1000</td>\n",
       "      <td>...</td>\n",
       "      <td>NaN</td>\n",
       "      <td>66</td>\n",
       "      <td>27</td>\n",
       "      <td>6</td>\n",
       "      <td>14</td>\n",
       "      <td>9702</td>\n",
       "      <td>L4E</td>\n",
       "      <td>16</td>\n",
       "      <td>9.0</td>\n",
       "      <td>6.812500</td>\n",
       "    </tr>\n",
       "    <tr>\n",
       "      <th>4</th>\n",
       "      <td>FL</td>\n",
       "      <td>NaN</td>\n",
       "      <td>2001</td>\n",
       "      <td>XXXX</td>\n",
       "      <td>X</td>\n",
       "      <td>F</td>\n",
       "      <td>S2</td>\n",
       "      <td>3.0</td>\n",
       "      <td>H</td>\n",
       "      <td>576</td>\n",
       "      <td>...</td>\n",
       "      <td>NaN</td>\n",
       "      <td>113</td>\n",
       "      <td>43</td>\n",
       "      <td>10</td>\n",
       "      <td>25</td>\n",
       "      <td>9702</td>\n",
       "      <td>L2F</td>\n",
       "      <td>37</td>\n",
       "      <td>14.0</td>\n",
       "      <td>6.864865</td>\n",
       "    </tr>\n",
       "  </tbody>\n",
       "</table>\n",
       "<p>5 rows × 28 columns</p>\n",
       "</div>"
      ],
      "text/plain": [
       "  STATE PVASTATE   DOB MDMAUD RECP3 GENDER DOMAIN  INCOME HOMEOWNR   HV1  ...  \\\n",
       "0    IL      NaN  3712   XXXX   NaN      F     T2     NaN      NaN   479  ...   \n",
       "1    CA      NaN  5202   XXXX   NaN      M     S1     6.0        H  5468  ...   \n",
       "2    NC      NaN     0   XXXX   NaN      M     R2     3.0        U   497  ...   \n",
       "3    CA      NaN  2801   XXXX   NaN      F     R2     1.0        U  1000  ...   \n",
       "4    FL      NaN  2001   XXXX     X      F     S2     3.0        H   576  ...   \n",
       "\n",
       "   VETERANS  NUMPROM  CARDPROM  CARDPM12  NUMPRM12  MAXADATE  RFA_2  NGIFTALL  \\\n",
       "0       NaN       74        27         6        14      9702    L4E        31   \n",
       "1       NaN       32        12         6        13      9702    L2G         3   \n",
       "2       NaN       63        26         6        14      9702    L4E        27   \n",
       "3       NaN       66        27         6        14      9702    L4E        16   \n",
       "4       NaN      113        43        10        25      9702    L2F        37   \n",
       "\n",
       "  TIMELAG    AVGGIFT  \n",
       "0     4.0   7.741935  \n",
       "1    18.0  15.666667  \n",
       "2    12.0   7.481481  \n",
       "3     9.0   6.812500  \n",
       "4    14.0   6.864865  \n",
       "\n",
       "[5 rows x 28 columns]"
      ]
     },
     "execution_count": 5,
     "metadata": {},
     "output_type": "execute_result"
    }
   ],
   "source": [
    "data = pd.read_csv('HC4A_unit4_404.csv')\n",
    "data.head()"
   ]
  },
  {
   "cell_type": "code",
   "execution_count": 6,
   "metadata": {
    "id": "eFPaEURRlBg8"
   },
   "outputs": [
    {
     "data": {
      "text/plain": [
       "XXXX    85544\n",
       "C1CM       56\n",
       "L1CM       41\n",
       "I1CM       29\n",
       "D2CM       22\n",
       "C2CM       21\n",
       "D1CM       17\n",
       "L2CM       13\n",
       "C1LM        8\n",
       "L1LM        7\n",
       "I2CM        7\n",
       "D5CM        5\n",
       "D5MM        5\n",
       "D2MM        4\n",
       "I1LM        3\n",
       "D5TM        3\n",
       "C2MM        3\n",
       "C5CM        2\n",
       "C2LM        2\n",
       "C1MM        1\n",
       "I2MM        1\n",
       "I5CM        1\n",
       "I5MM        1\n",
       "C5MM        1\n",
       "L1MM        1\n",
       "C5TM        1\n",
       "L2TM        1\n",
       "Name: MDMAUD, dtype: int64"
      ]
     },
     "execution_count": 6,
     "metadata": {},
     "output_type": "execute_result"
    }
   ],
   "source": [
    "data['MDMAUD'].value_counts(dropna=False)"
   ]
  },
  {
   "cell_type": "code",
   "execution_count": 7,
   "metadata": {
    "id": "8LTNla9EQjIn"
   },
   "outputs": [
    {
     "data": {
      "text/plain": [
       "(256, 28)"
      ]
     },
     "execution_count": 7,
     "metadata": {},
     "output_type": "execute_result"
    }
   ],
   "source": [
    "matrix_donors = data[data['MDMAUD']!='XXXX']\n",
    "matrix_donors.shape"
   ]
  },
  {
   "cell_type": "code",
   "execution_count": 8,
   "metadata": {
    "id": "eTT86niOlBg9"
   },
   "outputs": [
    {
     "data": {
      "text/plain": [
       "NaN    48\n",
       "S1     42\n",
       "C1     27\n",
       "R2     26\n",
       "U1     19\n",
       "S2     16\n",
       "T2     15\n",
       "C2     13\n",
       "T1     12\n",
       "U2      9\n",
       "C3      8\n",
       "R3      6\n",
       "U3      5\n",
       "S3      4\n",
       "R1      4\n",
       "T3      2\n",
       "Name: DOMAIN, dtype: int64"
      ]
     },
     "execution_count": 8,
     "metadata": {},
     "output_type": "execute_result"
    }
   ],
   "source": [
    "matrix_donors['DOMAIN'].value_counts(dropna=False)"
   ]
  },
  {
   "cell_type": "code",
   "execution_count": 9,
   "metadata": {
    "id": "VCKHzsVKQwFT"
   },
   "outputs": [
    {
     "data": {
      "text/html": [
       "<div>\n",
       "<style scoped>\n",
       "    .dataframe tbody tr th:only-of-type {\n",
       "        vertical-align: middle;\n",
       "    }\n",
       "\n",
       "    .dataframe tbody tr th {\n",
       "        vertical-align: top;\n",
       "    }\n",
       "\n",
       "    .dataframe thead th {\n",
       "        text-align: right;\n",
       "    }\n",
       "</style>\n",
       "<table border=\"1\" class=\"dataframe\">\n",
       "  <thead>\n",
       "    <tr style=\"text-align: right;\">\n",
       "      <th>MDMAUD</th>\n",
       "      <th>C1CM</th>\n",
       "      <th>C1LM</th>\n",
       "      <th>C1MM</th>\n",
       "      <th>C2CM</th>\n",
       "      <th>C2LM</th>\n",
       "      <th>C2MM</th>\n",
       "      <th>C5CM</th>\n",
       "      <th>C5MM</th>\n",
       "      <th>D1CM</th>\n",
       "      <th>D2CM</th>\n",
       "      <th>...</th>\n",
       "      <th>D5TM</th>\n",
       "      <th>I1CM</th>\n",
       "      <th>I1LM</th>\n",
       "      <th>I2CM</th>\n",
       "      <th>I5CM</th>\n",
       "      <th>L1CM</th>\n",
       "      <th>L1LM</th>\n",
       "      <th>L1MM</th>\n",
       "      <th>L2CM</th>\n",
       "      <th>L2TM</th>\n",
       "    </tr>\n",
       "    <tr>\n",
       "      <th>DOMAIN</th>\n",
       "      <th></th>\n",
       "      <th></th>\n",
       "      <th></th>\n",
       "      <th></th>\n",
       "      <th></th>\n",
       "      <th></th>\n",
       "      <th></th>\n",
       "      <th></th>\n",
       "      <th></th>\n",
       "      <th></th>\n",
       "      <th></th>\n",
       "      <th></th>\n",
       "      <th></th>\n",
       "      <th></th>\n",
       "      <th></th>\n",
       "      <th></th>\n",
       "      <th></th>\n",
       "      <th></th>\n",
       "      <th></th>\n",
       "      <th></th>\n",
       "      <th></th>\n",
       "    </tr>\n",
       "  </thead>\n",
       "  <tbody>\n",
       "    <tr>\n",
       "      <th>C1</th>\n",
       "      <td>5</td>\n",
       "      <td>0</td>\n",
       "      <td>0</td>\n",
       "      <td>2</td>\n",
       "      <td>0</td>\n",
       "      <td>1</td>\n",
       "      <td>0</td>\n",
       "      <td>0</td>\n",
       "      <td>2</td>\n",
       "      <td>2</td>\n",
       "      <td>...</td>\n",
       "      <td>1</td>\n",
       "      <td>3</td>\n",
       "      <td>1</td>\n",
       "      <td>0</td>\n",
       "      <td>0</td>\n",
       "      <td>7</td>\n",
       "      <td>1</td>\n",
       "      <td>0</td>\n",
       "      <td>0</td>\n",
       "      <td>0</td>\n",
       "    </tr>\n",
       "    <tr>\n",
       "      <th>C2</th>\n",
       "      <td>1</td>\n",
       "      <td>0</td>\n",
       "      <td>0</td>\n",
       "      <td>1</td>\n",
       "      <td>0</td>\n",
       "      <td>0</td>\n",
       "      <td>0</td>\n",
       "      <td>0</td>\n",
       "      <td>0</td>\n",
       "      <td>2</td>\n",
       "      <td>...</td>\n",
       "      <td>0</td>\n",
       "      <td>1</td>\n",
       "      <td>0</td>\n",
       "      <td>0</td>\n",
       "      <td>0</td>\n",
       "      <td>3</td>\n",
       "      <td>1</td>\n",
       "      <td>0</td>\n",
       "      <td>1</td>\n",
       "      <td>0</td>\n",
       "    </tr>\n",
       "    <tr>\n",
       "      <th>C3</th>\n",
       "      <td>1</td>\n",
       "      <td>0</td>\n",
       "      <td>0</td>\n",
       "      <td>0</td>\n",
       "      <td>0</td>\n",
       "      <td>0</td>\n",
       "      <td>0</td>\n",
       "      <td>0</td>\n",
       "      <td>0</td>\n",
       "      <td>0</td>\n",
       "      <td>...</td>\n",
       "      <td>0</td>\n",
       "      <td>3</td>\n",
       "      <td>0</td>\n",
       "      <td>1</td>\n",
       "      <td>1</td>\n",
       "      <td>1</td>\n",
       "      <td>0</td>\n",
       "      <td>0</td>\n",
       "      <td>0</td>\n",
       "      <td>0</td>\n",
       "    </tr>\n",
       "    <tr>\n",
       "      <th>R1</th>\n",
       "      <td>1</td>\n",
       "      <td>0</td>\n",
       "      <td>0</td>\n",
       "      <td>0</td>\n",
       "      <td>0</td>\n",
       "      <td>0</td>\n",
       "      <td>0</td>\n",
       "      <td>0</td>\n",
       "      <td>0</td>\n",
       "      <td>1</td>\n",
       "      <td>...</td>\n",
       "      <td>0</td>\n",
       "      <td>0</td>\n",
       "      <td>0</td>\n",
       "      <td>0</td>\n",
       "      <td>0</td>\n",
       "      <td>1</td>\n",
       "      <td>0</td>\n",
       "      <td>0</td>\n",
       "      <td>0</td>\n",
       "      <td>0</td>\n",
       "    </tr>\n",
       "    <tr>\n",
       "      <th>R2</th>\n",
       "      <td>10</td>\n",
       "      <td>0</td>\n",
       "      <td>0</td>\n",
       "      <td>1</td>\n",
       "      <td>0</td>\n",
       "      <td>0</td>\n",
       "      <td>1</td>\n",
       "      <td>0</td>\n",
       "      <td>3</td>\n",
       "      <td>3</td>\n",
       "      <td>...</td>\n",
       "      <td>0</td>\n",
       "      <td>3</td>\n",
       "      <td>0</td>\n",
       "      <td>0</td>\n",
       "      <td>0</td>\n",
       "      <td>1</td>\n",
       "      <td>1</td>\n",
       "      <td>0</td>\n",
       "      <td>1</td>\n",
       "      <td>1</td>\n",
       "    </tr>\n",
       "    <tr>\n",
       "      <th>R3</th>\n",
       "      <td>1</td>\n",
       "      <td>1</td>\n",
       "      <td>0</td>\n",
       "      <td>1</td>\n",
       "      <td>0</td>\n",
       "      <td>0</td>\n",
       "      <td>0</td>\n",
       "      <td>0</td>\n",
       "      <td>0</td>\n",
       "      <td>1</td>\n",
       "      <td>...</td>\n",
       "      <td>0</td>\n",
       "      <td>0</td>\n",
       "      <td>0</td>\n",
       "      <td>0</td>\n",
       "      <td>0</td>\n",
       "      <td>1</td>\n",
       "      <td>1</td>\n",
       "      <td>0</td>\n",
       "      <td>0</td>\n",
       "      <td>0</td>\n",
       "    </tr>\n",
       "    <tr>\n",
       "      <th>S1</th>\n",
       "      <td>13</td>\n",
       "      <td>4</td>\n",
       "      <td>1</td>\n",
       "      <td>2</td>\n",
       "      <td>1</td>\n",
       "      <td>0</td>\n",
       "      <td>1</td>\n",
       "      <td>1</td>\n",
       "      <td>0</td>\n",
       "      <td>6</td>\n",
       "      <td>...</td>\n",
       "      <td>0</td>\n",
       "      <td>3</td>\n",
       "      <td>2</td>\n",
       "      <td>0</td>\n",
       "      <td>0</td>\n",
       "      <td>5</td>\n",
       "      <td>1</td>\n",
       "      <td>0</td>\n",
       "      <td>2</td>\n",
       "      <td>0</td>\n",
       "    </tr>\n",
       "    <tr>\n",
       "      <th>S2</th>\n",
       "      <td>2</td>\n",
       "      <td>1</td>\n",
       "      <td>0</td>\n",
       "      <td>2</td>\n",
       "      <td>0</td>\n",
       "      <td>0</td>\n",
       "      <td>0</td>\n",
       "      <td>0</td>\n",
       "      <td>1</td>\n",
       "      <td>2</td>\n",
       "      <td>...</td>\n",
       "      <td>0</td>\n",
       "      <td>1</td>\n",
       "      <td>0</td>\n",
       "      <td>0</td>\n",
       "      <td>0</td>\n",
       "      <td>5</td>\n",
       "      <td>0</td>\n",
       "      <td>0</td>\n",
       "      <td>2</td>\n",
       "      <td>0</td>\n",
       "    </tr>\n",
       "    <tr>\n",
       "      <th>S3</th>\n",
       "      <td>0</td>\n",
       "      <td>1</td>\n",
       "      <td>0</td>\n",
       "      <td>0</td>\n",
       "      <td>1</td>\n",
       "      <td>0</td>\n",
       "      <td>0</td>\n",
       "      <td>0</td>\n",
       "      <td>1</td>\n",
       "      <td>0</td>\n",
       "      <td>...</td>\n",
       "      <td>0</td>\n",
       "      <td>0</td>\n",
       "      <td>0</td>\n",
       "      <td>0</td>\n",
       "      <td>0</td>\n",
       "      <td>1</td>\n",
       "      <td>0</td>\n",
       "      <td>0</td>\n",
       "      <td>0</td>\n",
       "      <td>0</td>\n",
       "    </tr>\n",
       "    <tr>\n",
       "      <th>T1</th>\n",
       "      <td>3</td>\n",
       "      <td>0</td>\n",
       "      <td>0</td>\n",
       "      <td>1</td>\n",
       "      <td>0</td>\n",
       "      <td>0</td>\n",
       "      <td>0</td>\n",
       "      <td>0</td>\n",
       "      <td>0</td>\n",
       "      <td>0</td>\n",
       "      <td>...</td>\n",
       "      <td>1</td>\n",
       "      <td>1</td>\n",
       "      <td>0</td>\n",
       "      <td>0</td>\n",
       "      <td>0</td>\n",
       "      <td>1</td>\n",
       "      <td>1</td>\n",
       "      <td>1</td>\n",
       "      <td>2</td>\n",
       "      <td>0</td>\n",
       "    </tr>\n",
       "    <tr>\n",
       "      <th>T2</th>\n",
       "      <td>2</td>\n",
       "      <td>0</td>\n",
       "      <td>0</td>\n",
       "      <td>2</td>\n",
       "      <td>0</td>\n",
       "      <td>0</td>\n",
       "      <td>0</td>\n",
       "      <td>0</td>\n",
       "      <td>3</td>\n",
       "      <td>0</td>\n",
       "      <td>...</td>\n",
       "      <td>0</td>\n",
       "      <td>2</td>\n",
       "      <td>0</td>\n",
       "      <td>0</td>\n",
       "      <td>0</td>\n",
       "      <td>5</td>\n",
       "      <td>0</td>\n",
       "      <td>0</td>\n",
       "      <td>0</td>\n",
       "      <td>0</td>\n",
       "    </tr>\n",
       "    <tr>\n",
       "      <th>T3</th>\n",
       "      <td>0</td>\n",
       "      <td>0</td>\n",
       "      <td>0</td>\n",
       "      <td>0</td>\n",
       "      <td>0</td>\n",
       "      <td>0</td>\n",
       "      <td>0</td>\n",
       "      <td>0</td>\n",
       "      <td>0</td>\n",
       "      <td>1</td>\n",
       "      <td>...</td>\n",
       "      <td>0</td>\n",
       "      <td>0</td>\n",
       "      <td>0</td>\n",
       "      <td>1</td>\n",
       "      <td>0</td>\n",
       "      <td>0</td>\n",
       "      <td>0</td>\n",
       "      <td>0</td>\n",
       "      <td>0</td>\n",
       "      <td>0</td>\n",
       "    </tr>\n",
       "    <tr>\n",
       "      <th>U1</th>\n",
       "      <td>3</td>\n",
       "      <td>0</td>\n",
       "      <td>0</td>\n",
       "      <td>0</td>\n",
       "      <td>0</td>\n",
       "      <td>0</td>\n",
       "      <td>0</td>\n",
       "      <td>0</td>\n",
       "      <td>2</td>\n",
       "      <td>1</td>\n",
       "      <td>...</td>\n",
       "      <td>0</td>\n",
       "      <td>2</td>\n",
       "      <td>0</td>\n",
       "      <td>3</td>\n",
       "      <td>0</td>\n",
       "      <td>5</td>\n",
       "      <td>0</td>\n",
       "      <td>0</td>\n",
       "      <td>1</td>\n",
       "      <td>0</td>\n",
       "    </tr>\n",
       "    <tr>\n",
       "      <th>U2</th>\n",
       "      <td>1</td>\n",
       "      <td>0</td>\n",
       "      <td>0</td>\n",
       "      <td>1</td>\n",
       "      <td>0</td>\n",
       "      <td>0</td>\n",
       "      <td>0</td>\n",
       "      <td>0</td>\n",
       "      <td>1</td>\n",
       "      <td>0</td>\n",
       "      <td>...</td>\n",
       "      <td>1</td>\n",
       "      <td>4</td>\n",
       "      <td>0</td>\n",
       "      <td>1</td>\n",
       "      <td>0</td>\n",
       "      <td>0</td>\n",
       "      <td>0</td>\n",
       "      <td>0</td>\n",
       "      <td>0</td>\n",
       "      <td>0</td>\n",
       "    </tr>\n",
       "    <tr>\n",
       "      <th>U3</th>\n",
       "      <td>2</td>\n",
       "      <td>0</td>\n",
       "      <td>0</td>\n",
       "      <td>0</td>\n",
       "      <td>0</td>\n",
       "      <td>0</td>\n",
       "      <td>0</td>\n",
       "      <td>0</td>\n",
       "      <td>0</td>\n",
       "      <td>1</td>\n",
       "      <td>...</td>\n",
       "      <td>0</td>\n",
       "      <td>1</td>\n",
       "      <td>0</td>\n",
       "      <td>0</td>\n",
       "      <td>0</td>\n",
       "      <td>0</td>\n",
       "      <td>1</td>\n",
       "      <td>0</td>\n",
       "      <td>0</td>\n",
       "      <td>0</td>\n",
       "    </tr>\n",
       "  </tbody>\n",
       "</table>\n",
       "<p>15 rows × 23 columns</p>\n",
       "</div>"
      ],
      "text/plain": [
       "MDMAUD  C1CM  C1LM  C1MM  C2CM  C2LM  C2MM  C5CM  C5MM  D1CM  D2CM  ...  D5TM  \\\n",
       "DOMAIN                                                              ...         \n",
       "C1         5     0     0     2     0     1     0     0     2     2  ...     1   \n",
       "C2         1     0     0     1     0     0     0     0     0     2  ...     0   \n",
       "C3         1     0     0     0     0     0     0     0     0     0  ...     0   \n",
       "R1         1     0     0     0     0     0     0     0     0     1  ...     0   \n",
       "R2        10     0     0     1     0     0     1     0     3     3  ...     0   \n",
       "R3         1     1     0     1     0     0     0     0     0     1  ...     0   \n",
       "S1        13     4     1     2     1     0     1     1     0     6  ...     0   \n",
       "S2         2     1     0     2     0     0     0     0     1     2  ...     0   \n",
       "S3         0     1     0     0     1     0     0     0     1     0  ...     0   \n",
       "T1         3     0     0     1     0     0     0     0     0     0  ...     1   \n",
       "T2         2     0     0     2     0     0     0     0     3     0  ...     0   \n",
       "T3         0     0     0     0     0     0     0     0     0     1  ...     0   \n",
       "U1         3     0     0     0     0     0     0     0     2     1  ...     0   \n",
       "U2         1     0     0     1     0     0     0     0     1     0  ...     1   \n",
       "U3         2     0     0     0     0     0     0     0     0     1  ...     0   \n",
       "\n",
       "MDMAUD  I1CM  I1LM  I2CM  I5CM  L1CM  L1LM  L1MM  L2CM  L2TM  \n",
       "DOMAIN                                                        \n",
       "C1         3     1     0     0     7     1     0     0     0  \n",
       "C2         1     0     0     0     3     1     0     1     0  \n",
       "C3         3     0     1     1     1     0     0     0     0  \n",
       "R1         0     0     0     0     1     0     0     0     0  \n",
       "R2         3     0     0     0     1     1     0     1     1  \n",
       "R3         0     0     0     0     1     1     0     0     0  \n",
       "S1         3     2     0     0     5     1     0     2     0  \n",
       "S2         1     0     0     0     5     0     0     2     0  \n",
       "S3         0     0     0     0     1     0     0     0     0  \n",
       "T1         1     0     0     0     1     1     1     2     0  \n",
       "T2         2     0     0     0     5     0     0     0     0  \n",
       "T3         0     0     1     0     0     0     0     0     0  \n",
       "U1         2     0     3     0     5     0     0     1     0  \n",
       "U2         4     0     1     0     0     0     0     0     0  \n",
       "U3         1     0     0     0     0     1     0     0     0  \n",
       "\n",
       "[15 rows x 23 columns]"
      ]
     },
     "execution_count": 9,
     "metadata": {},
     "output_type": "execute_result"
    }
   ],
   "source": [
    "data_crosstab = pd.crosstab(matrix_donors['DOMAIN'], matrix_donors['MDMAUD'], margins=False)  #margins=True bashe ye all ham ezafe mishe\n",
    "data_crosstab"
   ]
  },
  {
   "cell_type": "code",
   "execution_count": 10,
   "metadata": {
    "id": "A1UyTfeiRCEG"
   },
   "outputs": [
    {
     "data": {
      "text/plain": [
       "0.44454437919070994"
      ]
     },
     "execution_count": 10,
     "metadata": {},
     "output_type": "execute_result"
    }
   ],
   "source": [
    "st.chi2_contingency(data_crosstab)[1]    #ma second elemnet ro mikhayem bekhater in bayad [1] ro moshakhas mikonim\n",
    "# H0: MDMAUD and DOMAIN are not related\n",
    "# p > 0.05 ===> we can not reject the H0 ===> we can work under the assumption that they are not related"
   ]
  },
  {
   "cell_type": "code",
   "execution_count": null,
   "metadata": {
    "id": "GI6MWZN_R3AB"
   },
   "outputs": [],
   "source": [
    "# There is not enough evidence that people from different urban sprawls lapse faster/slower "
   ]
  },
  {
   "cell_type": "code",
   "execution_count": 11,
   "metadata": {
    "id": "X1Q5Q8fLRTFJ"
   },
   "outputs": [],
   "source": [
    "narrowdown_states = data[(data['STATE']== 'CA')|(data['STATE'] == 'IL')]"
   ]
  },
  {
   "cell_type": "code",
   "execution_count": 12,
   "metadata": {
    "id": "JKw3Tx--RErt"
   },
   "outputs": [
    {
     "data": {
      "text/html": [
       "<div>\n",
       "<style scoped>\n",
       "    .dataframe tbody tr th:only-of-type {\n",
       "        vertical-align: middle;\n",
       "    }\n",
       "\n",
       "    .dataframe tbody tr th {\n",
       "        vertical-align: top;\n",
       "    }\n",
       "\n",
       "    .dataframe thead th {\n",
       "        text-align: right;\n",
       "    }\n",
       "</style>\n",
       "<table border=\"1\" class=\"dataframe\">\n",
       "  <thead>\n",
       "    <tr style=\"text-align: right;\">\n",
       "      <th>STATE</th>\n",
       "      <th>CA</th>\n",
       "      <th>IL</th>\n",
       "    </tr>\n",
       "    <tr>\n",
       "      <th>DOMAIN</th>\n",
       "      <th></th>\n",
       "      <th></th>\n",
       "    </tr>\n",
       "  </thead>\n",
       "  <tbody>\n",
       "    <tr>\n",
       "      <th>C1</th>\n",
       "      <td>1091</td>\n",
       "      <td>403</td>\n",
       "    </tr>\n",
       "    <tr>\n",
       "      <th>C2</th>\n",
       "      <td>1090</td>\n",
       "      <td>435</td>\n",
       "    </tr>\n",
       "    <tr>\n",
       "      <th>C3</th>\n",
       "      <td>448</td>\n",
       "      <td>251</td>\n",
       "    </tr>\n",
       "    <tr>\n",
       "      <th>R1</th>\n",
       "      <td>203</td>\n",
       "      <td>56</td>\n",
       "    </tr>\n",
       "    <tr>\n",
       "      <th>R2</th>\n",
       "      <td>639</td>\n",
       "      <td>646</td>\n",
       "    </tr>\n",
       "    <tr>\n",
       "      <th>R3</th>\n",
       "      <td>154</td>\n",
       "      <td>195</td>\n",
       "    </tr>\n",
       "    <tr>\n",
       "      <th>S1</th>\n",
       "      <td>3108</td>\n",
       "      <td>961</td>\n",
       "    </tr>\n",
       "    <tr>\n",
       "      <th>S2</th>\n",
       "      <td>1382</td>\n",
       "      <td>632</td>\n",
       "    </tr>\n",
       "    <tr>\n",
       "      <th>S3</th>\n",
       "      <td>224</td>\n",
       "      <td>121</td>\n",
       "    </tr>\n",
       "    <tr>\n",
       "      <th>T1</th>\n",
       "      <td>667</td>\n",
       "      <td>279</td>\n",
       "    </tr>\n",
       "    <tr>\n",
       "      <th>T2</th>\n",
       "      <td>866</td>\n",
       "      <td>532</td>\n",
       "    </tr>\n",
       "    <tr>\n",
       "      <th>T3</th>\n",
       "      <td>89</td>\n",
       "      <td>108</td>\n",
       "    </tr>\n",
       "    <tr>\n",
       "      <th>U1</th>\n",
       "      <td>2266</td>\n",
       "      <td>419</td>\n",
       "    </tr>\n",
       "    <tr>\n",
       "      <th>U2</th>\n",
       "      <td>1399</td>\n",
       "      <td>338</td>\n",
       "    </tr>\n",
       "    <tr>\n",
       "      <th>U3</th>\n",
       "      <td>854</td>\n",
       "      <td>249</td>\n",
       "    </tr>\n",
       "    <tr>\n",
       "      <th>U4</th>\n",
       "      <td>435</td>\n",
       "      <td>145</td>\n",
       "    </tr>\n",
       "  </tbody>\n",
       "</table>\n",
       "</div>"
      ],
      "text/plain": [
       "STATE     CA   IL\n",
       "DOMAIN           \n",
       "C1      1091  403\n",
       "C2      1090  435\n",
       "C3       448  251\n",
       "R1       203   56\n",
       "R2       639  646\n",
       "R3       154  195\n",
       "S1      3108  961\n",
       "S2      1382  632\n",
       "S3       224  121\n",
       "T1       667  279\n",
       "T2       866  532\n",
       "T3        89  108\n",
       "U1      2266  419\n",
       "U2      1399  338\n",
       "U3       854  249\n",
       "U4       435  145"
      ]
     },
     "execution_count": 12,
     "metadata": {},
     "output_type": "execute_result"
    }
   ],
   "source": [
    "data_crosstab = pd.crosstab(narrowdown_states['DOMAIN'], narrowdown_states['STATE'], margins = False)  # Group by\n",
    "data_crosstab"
   ]
  },
  {
   "cell_type": "code",
   "execution_count": 13,
   "metadata": {
    "id": "u72iWVXIRO6C"
   },
   "outputs": [
    {
     "data": {
      "text/plain": [
       "1.546290000695185e-196"
      ]
     },
     "execution_count": 13,
     "metadata": {},
     "output_type": "execute_result"
    }
   ],
   "source": [
    "st.chi2_contingency(data_crosstab)[1]   #extremly zero "
   ]
  },
  {
   "cell_type": "code",
   "execution_count": null,
   "metadata": {
    "id": "zwXsM7D1RQL9"
   },
   "outputs": [],
   "source": [
    "# There is plenty of evidence that states and urban sprawl levels are NOT independent"
   ]
  },
  {
   "cell_type": "code",
   "execution_count": null,
   "metadata": {
    "id": "XYBVKfA4UyCk"
   },
   "outputs": [],
   "source": [
    "#ACTIVITY: Do INCOME vs GENDER"
   ]
  },
  {
   "cell_type": "code",
   "execution_count": 14,
   "metadata": {},
   "outputs": [
    {
     "data": {
      "text/html": [
       "<div>\n",
       "<style scoped>\n",
       "    .dataframe tbody tr th:only-of-type {\n",
       "        vertical-align: middle;\n",
       "    }\n",
       "\n",
       "    .dataframe tbody tr th {\n",
       "        vertical-align: top;\n",
       "    }\n",
       "\n",
       "    .dataframe thead th {\n",
       "        text-align: right;\n",
       "    }\n",
       "</style>\n",
       "<table border=\"1\" class=\"dataframe\">\n",
       "  <thead>\n",
       "    <tr style=\"text-align: right;\">\n",
       "      <th>GENDER</th>\n",
       "      <th>F</th>\n",
       "      <th>M</th>\n",
       "    </tr>\n",
       "    <tr>\n",
       "      <th>INCOME</th>\n",
       "      <th></th>\n",
       "      <th></th>\n",
       "    </tr>\n",
       "  </thead>\n",
       "  <tbody>\n",
       "    <tr>\n",
       "      <th>1.0</th>\n",
       "      <td>5247</td>\n",
       "      <td>3167</td>\n",
       "    </tr>\n",
       "    <tr>\n",
       "      <th>2.0</th>\n",
       "      <td>6966</td>\n",
       "      <td>5151</td>\n",
       "    </tr>\n",
       "    <tr>\n",
       "      <th>3.0</th>\n",
       "      <td>4442</td>\n",
       "      <td>3470</td>\n",
       "    </tr>\n",
       "    <tr>\n",
       "      <th>4.0</th>\n",
       "      <td>6351</td>\n",
       "      <td>5412</td>\n",
       "    </tr>\n",
       "    <tr>\n",
       "      <th>5.0</th>\n",
       "      <td>7796</td>\n",
       "      <td>6488</td>\n",
       "    </tr>\n",
       "    <tr>\n",
       "      <th>6.0</th>\n",
       "      <td>3795</td>\n",
       "      <td>3349</td>\n",
       "    </tr>\n",
       "    <tr>\n",
       "      <th>7.0</th>\n",
       "      <td>3600</td>\n",
       "      <td>3274</td>\n",
       "    </tr>\n",
       "  </tbody>\n",
       "</table>\n",
       "</div>"
      ],
      "text/plain": [
       "GENDER     F     M\n",
       "INCOME            \n",
       "1.0     5247  3167\n",
       "2.0     6966  5151\n",
       "3.0     4442  3470\n",
       "4.0     6351  5412\n",
       "5.0     7796  6488\n",
       "6.0     3795  3349\n",
       "7.0     3600  3274"
      ]
     },
     "execution_count": 14,
     "metadata": {},
     "output_type": "execute_result"
    }
   ],
   "source": [
    "matrix_gender = data[(data['GENDER']== 'M')|(data['GENDER'] == 'F')]  # income and gender are independet\n",
    "data_crosstab = pd.crosstab(matrix_gender['INCOME'], matrix_gender['GENDER'], margins = False)   \n",
    "data_crosstab\n",
    "#data_crosstab = pd.crosstab(data['GENDER'],data['GENDER'], margins = False) "
   ]
  },
  {
   "cell_type": "code",
   "execution_count": 15,
   "metadata": {},
   "outputs": [
    {
     "data": {
      "text/plain": [
       "9.5955157643964e-49"
      ]
     },
     "execution_count": 15,
     "metadata": {},
     "output_type": "execute_result"
    }
   ],
   "source": [
    "st.chi2_contingency(data_crosstab)[1] "
   ]
  },
  {
   "cell_type": "code",
   "execution_count": null,
   "metadata": {
    "id": "69l627izWEQu"
   },
   "outputs": [],
   "source": [
    "# Indeed there seems to be evidence that INCOME is NOT independent from GENDER"
   ]
  },
  {
   "cell_type": "markdown",
   "metadata": {
    "id": "m3N9qt81WRB6"
   },
   "source": [
    "# Multicollinearity revisited"
   ]
  },
  {
   "cell_type": "code",
   "execution_count": 16,
   "metadata": {
    "id": "CCq8HNnfWlA9"
   },
   "outputs": [],
   "source": [
    "import matplotlib.pyplot as plt\n",
    "import seaborn as sns"
   ]
  },
  {
   "cell_type": "code",
   "execution_count": 17,
   "metadata": {
    "id": "OEE_enzdZlzP"
   },
   "outputs": [
    {
     "data": {
      "text/html": [
       "<div>\n",
       "<style scoped>\n",
       "    .dataframe tbody tr th:only-of-type {\n",
       "        vertical-align: middle;\n",
       "    }\n",
       "\n",
       "    .dataframe tbody tr th {\n",
       "        vertical-align: top;\n",
       "    }\n",
       "\n",
       "    .dataframe thead th {\n",
       "        text-align: right;\n",
       "    }\n",
       "</style>\n",
       "<table border=\"1\" class=\"dataframe\">\n",
       "  <thead>\n",
       "    <tr style=\"text-align: right;\">\n",
       "      <th></th>\n",
       "      <th>checking_acc</th>\n",
       "      <th>savings_acc</th>\n",
       "      <th>investment_acc</th>\n",
       "      <th>Total Savings</th>\n",
       "    </tr>\n",
       "  </thead>\n",
       "  <tbody>\n",
       "    <tr>\n",
       "      <th>0</th>\n",
       "      <td>39578.90</td>\n",
       "      <td>45997.10</td>\n",
       "      <td>21394.00</td>\n",
       "      <td>106970</td>\n",
       "    </tr>\n",
       "    <tr>\n",
       "      <th>1</th>\n",
       "      <td>30744.25</td>\n",
       "      <td>36694.75</td>\n",
       "      <td>31736.00</td>\n",
       "      <td>99175</td>\n",
       "    </tr>\n",
       "    <tr>\n",
       "      <th>2</th>\n",
       "      <td>30816.85</td>\n",
       "      <td>53132.50</td>\n",
       "      <td>22315.65</td>\n",
       "      <td>106265</td>\n",
       "    </tr>\n",
       "    <tr>\n",
       "      <th>3</th>\n",
       "      <td>30720.86</td>\n",
       "      <td>39195.58</td>\n",
       "      <td>36017.56</td>\n",
       "      <td>105934</td>\n",
       "    </tr>\n",
       "    <tr>\n",
       "      <th>4</th>\n",
       "      <td>28838.40</td>\n",
       "      <td>28838.40</td>\n",
       "      <td>32443.20</td>\n",
       "      <td>90120</td>\n",
       "    </tr>\n",
       "    <tr>\n",
       "      <th>...</th>\n",
       "      <td>...</td>\n",
       "      <td>...</td>\n",
       "      <td>...</td>\n",
       "      <td>...</td>\n",
       "    </tr>\n",
       "    <tr>\n",
       "      <th>995</th>\n",
       "      <td>37417.45</td>\n",
       "      <td>44900.94</td>\n",
       "      <td>24588.61</td>\n",
       "      <td>106907</td>\n",
       "    </tr>\n",
       "    <tr>\n",
       "      <th>996</th>\n",
       "      <td>36688.62</td>\n",
       "      <td>33792.15</td>\n",
       "      <td>26068.23</td>\n",
       "      <td>96549</td>\n",
       "    </tr>\n",
       "    <tr>\n",
       "      <th>997</th>\n",
       "      <td>40350.96</td>\n",
       "      <td>24831.36</td>\n",
       "      <td>38281.68</td>\n",
       "      <td>103464</td>\n",
       "    </tr>\n",
       "    <tr>\n",
       "      <th>998</th>\n",
       "      <td>42845.40</td>\n",
       "      <td>43944.00</td>\n",
       "      <td>23070.60</td>\n",
       "      <td>109860</td>\n",
       "    </tr>\n",
       "    <tr>\n",
       "      <th>999</th>\n",
       "      <td>19248.18</td>\n",
       "      <td>40329.52</td>\n",
       "      <td>32080.30</td>\n",
       "      <td>91658</td>\n",
       "    </tr>\n",
       "  </tbody>\n",
       "</table>\n",
       "<p>1000 rows × 4 columns</p>\n",
       "</div>"
      ],
      "text/plain": [
       "     checking_acc  savings_acc  investment_acc  Total Savings\n",
       "0        39578.90     45997.10        21394.00         106970\n",
       "1        30744.25     36694.75        31736.00          99175\n",
       "2        30816.85     53132.50        22315.65         106265\n",
       "3        30720.86     39195.58        36017.56         105934\n",
       "4        28838.40     28838.40        32443.20          90120\n",
       "..            ...          ...             ...            ...\n",
       "995      37417.45     44900.94        24588.61         106907\n",
       "996      36688.62     33792.15        26068.23          96549\n",
       "997      40350.96     24831.36        38281.68         103464\n",
       "998      42845.40     43944.00        23070.60         109860\n",
       "999      19248.18     40329.52        32080.30          91658\n",
       "\n",
       "[1000 rows x 4 columns]"
      ]
     },
     "execution_count": 17,
     "metadata": {},
     "output_type": "execute_result"
    }
   ],
   "source": [
    "savings = pd.read_csv('savings.csv')\n",
    "savings"
   ]
  },
  {
   "cell_type": "code",
   "execution_count": 18,
   "metadata": {
    "id": "UvHmIW3dZwFc"
   },
   "outputs": [
    {
     "data": {
      "text/html": [
       "<div>\n",
       "<style scoped>\n",
       "    .dataframe tbody tr th:only-of-type {\n",
       "        vertical-align: middle;\n",
       "    }\n",
       "\n",
       "    .dataframe tbody tr th {\n",
       "        vertical-align: top;\n",
       "    }\n",
       "\n",
       "    .dataframe thead th {\n",
       "        text-align: right;\n",
       "    }\n",
       "</style>\n",
       "<table border=\"1\" class=\"dataframe\">\n",
       "  <thead>\n",
       "    <tr style=\"text-align: right;\">\n",
       "      <th></th>\n",
       "      <th>checking_acc</th>\n",
       "      <th>savings_acc</th>\n",
       "      <th>investment_acc</th>\n",
       "      <th>Total Savings</th>\n",
       "    </tr>\n",
       "  </thead>\n",
       "  <tbody>\n",
       "    <tr>\n",
       "      <th>checking_acc</th>\n",
       "      <td>1.000000</td>\n",
       "      <td>-0.586695</td>\n",
       "      <td>0.093721</td>\n",
       "      <td>0.283531</td>\n",
       "    </tr>\n",
       "    <tr>\n",
       "      <th>savings_acc</th>\n",
       "      <td>-0.586695</td>\n",
       "      <td>1.000000</td>\n",
       "      <td>-0.593728</td>\n",
       "      <td>0.235279</td>\n",
       "    </tr>\n",
       "    <tr>\n",
       "      <th>investment_acc</th>\n",
       "      <td>0.093721</td>\n",
       "      <td>-0.593728</td>\n",
       "      <td>1.000000</td>\n",
       "      <td>0.304562</td>\n",
       "    </tr>\n",
       "    <tr>\n",
       "      <th>Total Savings</th>\n",
       "      <td>0.283531</td>\n",
       "      <td>0.235279</td>\n",
       "      <td>0.304562</td>\n",
       "      <td>1.000000</td>\n",
       "    </tr>\n",
       "  </tbody>\n",
       "</table>\n",
       "</div>"
      ],
      "text/plain": [
       "                checking_acc  savings_acc  investment_acc  Total Savings\n",
       "checking_acc        1.000000    -0.586695        0.093721       0.283531\n",
       "savings_acc        -0.586695     1.000000       -0.593728       0.235279\n",
       "investment_acc      0.093721    -0.593728        1.000000       0.304562\n",
       "Total Savings       0.283531     0.235279        0.304562       1.000000"
      ]
     },
     "execution_count": 18,
     "metadata": {},
     "output_type": "execute_result"
    }
   ],
   "source": [
    "savings.corr()    # see total saving jame 3 taye ghabliye,harja total dedi tavajoh kon"
   ]
  },
  {
   "cell_type": "code",
   "execution_count": 19,
   "metadata": {
    "id": "yiCeKr1RbIf6"
   },
   "outputs": [
    {
     "data": {
      "image/png": "[encoded data removed]",
      "text/plain": [
       "<Figure size 640x480 with 2 Axes>"
      ]
     },
     "metadata": {},
     "output_type": "display_data"
    }
   ],
   "source": [
    "sns.heatmap(savings.corr(), annot=True)\n",
    "plt.show()"
   ]
  },
  {
   "cell_type": "code",
   "execution_count": null,
   "metadata": {
    "id": "yBamsmRid2tr"
   },
   "outputs": [],
   "source": [
    "#we suspect \"Total savings\" is actually correlated with the others...   inja mikhad neshon bedeh ina correlation daran"
   ]
  },
  {
   "cell_type": "code",
   "execution_count": 20,
   "metadata": {
    "id": "WCxZgczEbmAe"
   },
   "outputs": [
    {
     "data": {
      "text/html": [
       "<div>\n",
       "<style scoped>\n",
       "    .dataframe tbody tr th:only-of-type {\n",
       "        vertical-align: middle;\n",
       "    }\n",
       "\n",
       "    .dataframe tbody tr th {\n",
       "        vertical-align: top;\n",
       "    }\n",
       "\n",
       "    .dataframe thead th {\n",
       "        text-align: right;\n",
       "    }\n",
       "</style>\n",
       "<table border=\"1\" class=\"dataframe\">\n",
       "  <thead>\n",
       "    <tr style=\"text-align: right;\">\n",
       "      <th></th>\n",
       "      <th>checking_acc</th>\n",
       "      <th>savings_acc</th>\n",
       "      <th>investment_acc</th>\n",
       "      <th>Total Savings</th>\n",
       "      <th>Control</th>\n",
       "    </tr>\n",
       "  </thead>\n",
       "  <tbody>\n",
       "    <tr>\n",
       "      <th>0</th>\n",
       "      <td>39578.90</td>\n",
       "      <td>45997.10</td>\n",
       "      <td>21394.00</td>\n",
       "      <td>106970</td>\n",
       "      <td>106970.0</td>\n",
       "    </tr>\n",
       "    <tr>\n",
       "      <th>1</th>\n",
       "      <td>30744.25</td>\n",
       "      <td>36694.75</td>\n",
       "      <td>31736.00</td>\n",
       "      <td>99175</td>\n",
       "      <td>99175.0</td>\n",
       "    </tr>\n",
       "    <tr>\n",
       "      <th>2</th>\n",
       "      <td>30816.85</td>\n",
       "      <td>53132.50</td>\n",
       "      <td>22315.65</td>\n",
       "      <td>106265</td>\n",
       "      <td>106265.0</td>\n",
       "    </tr>\n",
       "    <tr>\n",
       "      <th>3</th>\n",
       "      <td>30720.86</td>\n",
       "      <td>39195.58</td>\n",
       "      <td>36017.56</td>\n",
       "      <td>105934</td>\n",
       "      <td>105934.0</td>\n",
       "    </tr>\n",
       "    <tr>\n",
       "      <th>4</th>\n",
       "      <td>28838.40</td>\n",
       "      <td>28838.40</td>\n",
       "      <td>32443.20</td>\n",
       "      <td>90120</td>\n",
       "      <td>90120.0</td>\n",
       "    </tr>\n",
       "  </tbody>\n",
       "</table>\n",
       "</div>"
      ],
      "text/plain": [
       "   checking_acc  savings_acc  investment_acc  Total Savings   Control\n",
       "0      39578.90     45997.10        21394.00         106970  106970.0\n",
       "1      30744.25     36694.75        31736.00          99175   99175.0\n",
       "2      30816.85     53132.50        22315.65         106265  106265.0\n",
       "3      30720.86     39195.58        36017.56         105934  105934.0\n",
       "4      28838.40     28838.40        32443.20          90120   90120.0"
      ]
     },
     "execution_count": 20,
     "metadata": {},
     "output_type": "execute_result"
    }
   ],
   "source": [
    "savings['Control'] = savings['checking_acc'] +savings['savings_acc'] +savings['investment_acc'] \n",
    "savings.head()\n",
    "#indeed we know that"
   ]
  },
  {
   "cell_type": "code",
   "execution_count": null,
   "metadata": {
    "id": "N1Qf9IsvdzUs"
   },
   "outputs": [],
   "source": [
    "#in general, we can't expect this to be so easy"
   ]
  },
  {
   "cell_type": "code",
   "execution_count": 21,
   "metadata": {
    "id": "NnzSXt1Cb6xW"
   },
   "outputs": [],
   "source": [
    "from sklearn.linear_model import LinearRegression\n",
    "from sklearn.model_selection import train_test_split\n",
    "from sklearn.metrics import r2_score"
   ]
  },
  {
   "cell_type": "code",
   "execution_count": 22,
   "metadata": {
    "id": "Zn0jec2aeEPY"
   },
   "outputs": [],
   "source": [
    "y = savings['Total Savings']\n",
    "X = savings[['checking_acc','savings_acc', 'investment_acc']]\n",
    "X_train, X_test, y_train, y_test = train_test_split(X,y)"
   ]
  },
  {
   "cell_type": "code",
   "execution_count": 23,
   "metadata": {
    "id": "3mDLEFg7dVEC"
   },
   "outputs": [],
   "source": [
    "LR = LinearRegression().fit(X_train,y_train)"
   ]
  },
  {
   "cell_type": "code",
   "execution_count": 24,
   "metadata": {
    "id": "dfncipmGeQzs"
   },
   "outputs": [],
   "source": [
    "y_pred = LR.predict(X_test)"
   ]
  },
  {
   "cell_type": "code",
   "execution_count": 25,
   "metadata": {
    "id": "MbUL_P9NetRO"
   },
   "outputs": [
    {
     "data": {
      "text/plain": [
       "1.0"
      ]
     },
     "execution_count": 25,
     "metadata": {},
     "output_type": "execute_result"
    }
   ],
   "source": [
    "r2_score(y_pred,y_test)  # we have a perfecr model but in reality it is imposiable"
   ]
  },
  {
   "cell_type": "code",
   "execution_count": 26,
   "metadata": {
    "id": "EHEFM3-HlBhF"
   },
   "outputs": [
    {
     "data": {
      "text/plain": [
       "array([ 99657.,  95091.,  96002., 107295.,  98457.])"
      ]
     },
     "execution_count": 26,
     "metadata": {},
     "output_type": "execute_result"
    }
   ],
   "source": [
    "y_pred[:5]"
   ]
  },
  {
   "cell_type": "code",
   "execution_count": 27,
   "metadata": {
    "id": "2VkpgI0klBhF"
   },
   "outputs": [
    {
     "name": "stderr",
     "output_type": "stream",
     "text": [
      "C:\\Users\\Parinaz\\AppData\\Local\\Temp\\ipykernel_27404\\1754177261.py:1: FutureWarning: The behavior of `series[i:j]` with an integer-dtype index is deprecated. In a future version, this will be treated as *label-based* indexing, consistent with e.g. `series[i]` lookups. To retain the old behavior, use `series.iloc[i:j]`. To get the future behavior, use `series.loc[i:j]`.\n",
      "  y_test[:5]\n"
     ]
    },
    {
     "data": {
      "text/plain": [
       "689     99657\n",
       "718     95091\n",
       "640     96002\n",
       "205    107295\n",
       "879     98457\n",
       "Name: Total Savings, dtype: int64"
      ]
     },
     "execution_count": 27,
     "metadata": {},
     "output_type": "execute_result"
    }
   ],
   "source": [
    "y_test[:5]"
   ]
  },
  {
   "cell_type": "code",
   "execution_count": null,
   "metadata": {
    "id": "T1JQvKDDez8A"
   },
   "outputs": [],
   "source": [
    "#the value is completely redundant, we should take it out!"
   ]
  },
  {
   "cell_type": "code",
   "execution_count": 28,
   "metadata": {
    "id": "Wzg1cgNDlBhG"
   },
   "outputs": [
    {
     "data": {
      "text/plain": [
       "array([1., 1., 1.])"
      ]
     },
     "execution_count": 28,
     "metadata": {},
     "output_type": "execute_result"
    }
   ],
   "source": [
    "LR.coef_"
   ]
  },
  {
   "cell_type": "code",
   "execution_count": 29,
   "metadata": {
    "id": "Pu6acPsclBhG"
   },
   "outputs": [
    {
     "data": {
      "text/plain": [
       "1.4551915228366852e-11"
      ]
     },
     "execution_count": 29,
     "metadata": {},
     "output_type": "execute_result"
    }
   ],
   "source": [
    "LR.intercept_"
   ]
  },
  {
   "cell_type": "code",
   "execution_count": null,
   "metadata": {
    "id": "eRSW_Y9ClBhG"
   },
   "outputs": [],
   "source": []
  }
 ],
 "metadata": {
  "colab": {
   "provenance": []
  },
  "kernelspec": {
   "display_name": "Python 3 (ipykernel)",
   "language": "python",
   "name": "python3"
  },
  "language_info": {
   "codemirror_mode": {
    "name": "ipython",
    "version": 3
   },
   "file_extension": ".py",
   "mimetype": "text/x-python",
   "name": "python",
   "nbconvert_exporter": "python",
   "pygments_lexer": "ipython3",
   "version": "3.11.5"
  }
 },
 "nbformat": 4,
 "nbformat_minor": 1
}
