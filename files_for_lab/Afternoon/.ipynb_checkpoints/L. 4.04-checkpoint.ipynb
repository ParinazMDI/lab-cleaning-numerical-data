{
 "cells": [
  {
   "cell_type": "code",
   "execution_count": null,
   "metadata": {
    "id": "Bq0KH1i_NyRd"
   },
   "outputs": [],
   "source": [
    "import scipy.stats as st\n",
    "import numpy as np"
   ]
  },
  {
   "cell_type": "code",
   "execution_count": null,
   "metadata": {
    "id": "EvFbv4f4OEBa"
   },
   "outputs": [],
   "source": [
    "cars_table=[[256,74],\n",
    "            [41,42],\n",
    "            [66,34]]"
   ]
  },
  {
   "cell_type": "code",
   "execution_count": null,
   "metadata": {
    "id": "ybsSIkbCOItk"
   },
   "outputs": [],
   "source": [
    "st.chi2_contingency(np.array(cars_table))"
   ]
  },
  {
   "cell_type": "code",
   "execution_count": null,
   "metadata": {
    "id": "TrWdFyHrOphP"
   },
   "outputs": [],
   "source": [
    "#seems like our car manufacturers are actually quite differentiated.\n",
    "#good for them!"
   ]
  },
  {
   "cell_type": "code",
   "execution_count": null,
   "metadata": {
    "id": "U1DAsxPrObGx"
   },
   "outputs": [],
   "source": [
    "import pandas as pd"
   ]
  },
  {
   "cell_type": "code",
   "execution_count": null,
   "metadata": {
    "id": "QXZkeZJBOKfI"
   },
   "outputs": [],
   "source": [
    "data = pd.read_csv('HC4A_unit4_404.csv')\n",
    "data.head()"
   ]
  },
  {
   "cell_type": "code",
   "execution_count": null,
   "metadata": {
    "id": "eFPaEURRlBg8"
   },
   "outputs": [],
   "source": [
    "data['MDMAUD'].value_counts(dropna=False)"
   ]
  },
  {
   "cell_type": "code",
   "execution_count": null,
   "metadata": {
    "id": "8LTNla9EQjIn"
   },
   "outputs": [],
   "source": [
    "matrix_donors = data[data['MDMAUD']!='XXXX']\n",
    "matrix_donors.shape"
   ]
  },
  {
   "cell_type": "code",
   "execution_count": null,
   "metadata": {
    "id": "eTT86niOlBg9"
   },
   "outputs": [],
   "source": [
    "matrix_donors['DOMAIN'].value_counts(dropna=False)"
   ]
  },
  {
   "cell_type": "code",
   "execution_count": null,
   "metadata": {
    "id": "VCKHzsVKQwFT"
   },
   "outputs": [],
   "source": [
    "data_crosstab = pd.crosstab(matrix_donors['DOMAIN'], matrix_donors['MDMAUD'], margins=False)\n",
    "data_crosstab"
   ]
  },
  {
   "cell_type": "code",
   "execution_count": null,
   "metadata": {
    "id": "A1UyTfeiRCEG"
   },
   "outputs": [],
   "source": [
    "st.chi2_contingency(data_crosstab)[1]\n",
    "# H0: MDMAUD and DOMAIN are not related\n",
    "# p > 0.05 ===> we can not reject the H0 ===> we can work under the assumption that they are not related"
   ]
  },
  {
   "cell_type": "code",
   "execution_count": null,
   "metadata": {
    "id": "GI6MWZN_R3AB"
   },
   "outputs": [],
   "source": [
    "# There is not enough evidence that people from different urban sprawls lapse faster/slower "
   ]
  },
  {
   "cell_type": "code",
   "execution_count": null,
   "metadata": {
    "id": "X1Q5Q8fLRTFJ"
   },
   "outputs": [],
   "source": [
    "narrowdown_states = data[(data['STATE']== 'CA')|(data['STATE'] == 'IL')]"
   ]
  },
  {
   "cell_type": "code",
   "execution_count": null,
   "metadata": {
    "id": "JKw3Tx--RErt"
   },
   "outputs": [],
   "source": [
    "data_crosstab = pd.crosstab(narrowdown_states['DOMAIN'], narrowdown_states['STATE'], margins = False)\n",
    "data_crosstab"
   ]
  },
  {
   "cell_type": "code",
   "execution_count": null,
   "metadata": {
    "id": "u72iWVXIRO6C"
   },
   "outputs": [],
   "source": [
    "st.chi2_contingency(data_crosstab)[1]"
   ]
  },
  {
   "cell_type": "code",
   "execution_count": null,
   "metadata": {
    "id": "zwXsM7D1RQL9"
   },
   "outputs": [],
   "source": [
    "# There is plenty of evidence that states and urban sprawl levels are NOT independent"
   ]
  },
  {
   "cell_type": "code",
   "execution_count": null,
   "metadata": {
    "id": "XYBVKfA4UyCk"
   },
   "outputs": [],
   "source": [
    "#ACTIVITY: Do INCOME vs GENDER"
   ]
  },
  {
   "cell_type": "code",
   "execution_count": null,
   "metadata": {
    "id": "69l627izWEQu"
   },
   "outputs": [],
   "source": [
    "# Indeed there seems to be evidence that INCOME is NOT independent from GENDER"
   ]
  },
  {
   "cell_type": "markdown",
   "metadata": {
    "id": "m3N9qt81WRB6"
   },
   "source": [
    "# Multicollinearity revisited"
   ]
  },
  {
   "cell_type": "code",
   "execution_count": null,
   "metadata": {
    "id": "CCq8HNnfWlA9"
   },
   "outputs": [],
   "source": [
    "import matplotlib.pyplot as plt\n",
    "import seaborn as sns"
   ]
  },
  {
   "cell_type": "code",
   "execution_count": null,
   "metadata": {
    "id": "OEE_enzdZlzP"
   },
   "outputs": [],
   "source": [
    "savings = pd.read_csv('savings.csv')\n",
    "savings"
   ]
  },
  {
   "cell_type": "code",
   "execution_count": null,
   "metadata": {
    "id": "UvHmIW3dZwFc"
   },
   "outputs": [],
   "source": [
    "savings.corr()"
   ]
  },
  {
   "cell_type": "code",
   "execution_count": null,
   "metadata": {
    "id": "yiCeKr1RbIf6"
   },
   "outputs": [],
   "source": [
    "sns.heatmap(savings.corr(), annot=True)\n",
    "plt.show()"
   ]
  },
  {
   "cell_type": "code",
   "execution_count": null,
   "metadata": {
    "id": "yBamsmRid2tr"
   },
   "outputs": [],
   "source": [
    "#we suspect \"Total savings\" is actually correlated with the others..."
   ]
  },
  {
   "cell_type": "code",
   "execution_count": null,
   "metadata": {
    "id": "WCxZgczEbmAe"
   },
   "outputs": [],
   "source": [
    "savings['Control'] = savings['checking_acc'] +savings['savings_acc'] +savings['investment_acc'] \n",
    "savings.head()\n",
    "#indeed we know that"
   ]
  },
  {
   "cell_type": "code",
   "execution_count": null,
   "metadata": {
    "id": "N1Qf9IsvdzUs"
   },
   "outputs": [],
   "source": [
    "#in general, we can't expect this to be so easy"
   ]
  },
  {
   "cell_type": "code",
   "execution_count": null,
   "metadata": {
    "id": "NnzSXt1Cb6xW"
   },
   "outputs": [],
   "source": [
    "from sklearn.linear_model import LinearRegression\n",
    "from sklearn.model_selection import train_test_split\n",
    "from sklearn.metrics import r2_score"
   ]
  },
  {
   "cell_type": "code",
   "execution_count": null,
   "metadata": {
    "id": "Zn0jec2aeEPY"
   },
   "outputs": [],
   "source": [
    "y = savings['Total Savings']\n",
    "X = savings[['checking_acc','savings_acc', 'investment_acc']]\n",
    "X_train, X_test, y_train, y_test = train_test_split(X,y)"
   ]
  },
  {
   "cell_type": "code",
   "execution_count": null,
   "metadata": {
    "id": "3mDLEFg7dVEC"
   },
   "outputs": [],
   "source": [
    "LR = LinearRegression().fit(X_train,y_train)"
   ]
  },
  {
   "cell_type": "code",
   "execution_count": null,
   "metadata": {
    "id": "dfncipmGeQzs"
   },
   "outputs": [],
   "source": [
    "y_pred = LR.predict(X_test)"
   ]
  },
  {
   "cell_type": "code",
   "execution_count": null,
   "metadata": {
    "id": "MbUL_P9NetRO"
   },
   "outputs": [],
   "source": [
    "r2_score(y_pred,y_test)"
   ]
  },
  {
   "cell_type": "code",
   "execution_count": null,
   "metadata": {
    "id": "EHEFM3-HlBhF"
   },
   "outputs": [],
   "source": [
    "y_pred[:5]"
   ]
  },
  {
   "cell_type": "code",
   "execution_count": null,
   "metadata": {
    "id": "2VkpgI0klBhF"
   },
   "outputs": [],
   "source": [
    "y_test[:5]"
   ]
  },
  {
   "cell_type": "code",
   "execution_count": null,
   "metadata": {
    "id": "T1JQvKDDez8A"
   },
   "outputs": [],
   "source": [
    "#the value is completely redundant, we should take it out!"
   ]
  },
  {
   "cell_type": "code",
   "execution_count": null,
   "metadata": {
    "id": "Wzg1cgNDlBhG"
   },
   "outputs": [],
   "source": [
    "LR.coef_"
   ]
  },
  {
   "cell_type": "code",
   "execution_count": null,
   "metadata": {
    "id": "Pu6acPsclBhG"
   },
   "outputs": [],
   "source": [
    "LR.intercept_"
   ]
  },
  {
   "cell_type": "code",
   "execution_count": null,
   "metadata": {
    "id": "eRSW_Y9ClBhG"
   },
   "outputs": [],
   "source": []
  }
 ],
 "metadata": {
  "colab": {
   "provenance": []
  },
  "kernelspec": {
   "display_name": "Python 3 (ipykernel)",
   "language": "python",
   "name": "python3"
  },
  "language_info": {
   "codemirror_mode": {
    "name": "ipython",
    "version": 3
   },
   "file_extension": ".py",
   "mimetype": "text/x-python",
   "name": "python",
   "nbconvert_exporter": "python",
   "pygments_lexer": "ipython3",
   "version": "3.7.3"
  }
 },
 "nbformat": 4,
 "nbformat_minor": 0
}
